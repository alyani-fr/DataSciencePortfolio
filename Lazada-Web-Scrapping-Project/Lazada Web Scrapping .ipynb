{
 "cells": [
  {
   "cell_type": "code",
   "execution_count": null,
   "id": "93357195",
   "metadata": {},
   "outputs": [],
   "source": [
    "#pip install selenium"
   ]
  },
  {
   "cell_type": "code",
   "execution_count": null,
   "id": "644e4965",
   "metadata": {},
   "outputs": [],
   "source": [
    "import pandas as pd\n",
    "from selenium import webdriver\n",
    "from bs4 import BeautifulSoup\n",
    "import time\n",
    "import smtplib"
   ]
  },
  {
   "cell_type": "code",
   "execution_count": null,
   "id": "758399b3",
   "metadata": {},
   "outputs": [],
   "source": [
    "driver = webdriver.Chrome()\n",
    "\n",
    "driver.get(\"https://www.lazada.com.my/products/nintendo-switch-oled-console-1-year-official-maxsoft-warranty-i2539276964-s15958229897.html\")\n",
    "js_content = driver.page_source"
   ]
  },
  {
   "cell_type": "code",
   "execution_count": null,
   "id": "29a44701",
   "metadata": {},
   "outputs": [],
   "source": [
    "soup = BeautifulSoup(js_content, \"html.parser\")\n",
    "print(soup)"
   ]
  },
  {
   "cell_type": "code",
   "execution_count": null,
   "id": "9e88f2bc",
   "metadata": {},
   "outputs": [],
   "source": [
    "title = soup.find(id='module_product_title_1').get_text()\n",
    "print(title)"
   ]
  },
  {
   "cell_type": "code",
   "execution_count": null,
   "id": "2409914b",
   "metadata": {},
   "outputs": [],
   "source": [
    "price = soup.find('span', class_='pdp-price pdp-price_type_normal pdp-price_color_orange pdp-price_size_xl').get_text()\n",
    "print(price)"
   ]
  },
  {
   "cell_type": "code",
   "execution_count": null,
   "id": "4cbd3235",
   "metadata": {},
   "outputs": [],
   "source": [
    "price = price.replace(',','').strip()[2:]\n",
    "\n",
    "print(price)"
   ]
  },
  {
   "cell_type": "code",
   "execution_count": null,
   "id": "ea494591",
   "metadata": {},
   "outputs": [],
   "source": [
    "float(price)"
   ]
  },
  {
   "cell_type": "code",
   "execution_count": null,
   "id": "306ac921",
   "metadata": {},
   "outputs": [],
   "source": [
    "quantity = soup.find('span', class_='quantity-content-default').get_text()\n",
    "print(quantity)"
   ]
  },
  {
   "cell_type": "code",
   "execution_count": null,
   "id": "c65e1f20",
   "metadata": {},
   "outputs": [],
   "source": [
    "#creating a csv file\n",
    "\n",
    "import csv\n",
    "import datetime\n",
    "\n",
    "today = datetime.date.today()\n",
    "\n",
    "header = ['Date', 'Item', 'Price', 'Quantity']\n",
    "data = [today, title, price, quantity]\n",
    "\n",
    "with open('LazadaWebScrapping.csv', 'w', newline='', encoding='UTF8') as f:\n",
    "    writer = csv.writer(f)\n",
    "    writer.writerow(header)\n",
    "    writer.writerow(data)\n"
   ]
  },
  {
   "cell_type": "code",
   "execution_count": null,
   "id": "5f7962d4",
   "metadata": {},
   "outputs": [],
   "source": [
    "#import csv into pandas dataframe\n",
    "\n",
    "df = pd.read_csv('LazadaWebScrapping.csv')\n",
    "df"
   ]
  },
  {
   "cell_type": "code",
   "execution_count": null,
   "id": "04ea411a",
   "metadata": {},
   "outputs": [],
   "source": [
    "#appending data into the csv\n",
    "\n",
    "with open('LazadaWebScrapping.csv', 'a+', newline='', encoding='UTF8') as f:\n",
    "    writer = csv.writer(f)\n",
    "    writer.writerow(data)"
   ]
  },
  {
   "cell_type": "code",
   "execution_count": null,
   "id": "7ea854a4",
   "metadata": {},
   "outputs": [],
   "source": [
    "#send_mail function to notify when price hit a certain value\n",
    "\n",
    "def send_mail():\n",
    "    server = smtplib.SMTP_SSL('smtp.gmail.com',465)\n",
    "    server.ehlo()\n",
    "    #server.starttls()\n",
    "    server.ehlo()\n",
    "    server.login('xxxxxxx@gmail.com','xxxxxxxxxxxxxxxx')\n",
    "    \n",
    "    subject = \"The item is on SALE! Now is your chance to buy!\"\n",
    "    body = \"Yani, This is the moment we have been waiting for. Now is your chance to pick up the Nintendo OLED. Link here: https://www.lazada.com.my/products/nintendo-switch-oled-console-1-year-official-maxsoft-warranty-i2539276964-s15958229897.html\"\n",
    "   \n",
    "    msg = f\"Subject: {subject}\\n\\n{body}\"\n",
    "    \n",
    "    server.sendmail('xxxxxxxx@gmail.com', 'xxxxxxxx@gmail.com', msg)"
   ]
  },
  {
   "cell_type": "code",
   "execution_count": null,
   "id": "2041bf16",
   "metadata": {},
   "outputs": [],
   "source": [
    "#combining all related commands into a function\n",
    "\n",
    "def check_price():\n",
    "    driver = webdriver.Chrome()\n",
    "    driver.get(\"https://www.lazada.com.my/products/nintendo-switch-oled-console-1-year-official-maxsoft-warranty-i2539276964-s15958229897.html\")\n",
    "    js_content = driver.page_source\n",
    "    \n",
    "    soup = BeautifulSoup(js_content, \"html.parser\")\n",
    "    \n",
    "    title = soup.find(id='module_product_title_1').get_text()\n",
    "    price = soup.find('span', class_='pdp-price pdp-price_type_normal pdp-price_color_orange pdp-price_size_xl').get_text()\n",
    "    quantity = soup.find('span', class_='quantity-content-default').get_text()\n",
    "    \n",
    "    price = price.replace(',','').strip()[2:]\n",
    "    float(price)\n",
    "    \n",
    "    import csv\n",
    "    import datetime\n",
    "\n",
    "    today = datetime.date.today()\n",
    "\n",
    "    header = ['Date', 'Item', 'Price', 'Quantity']\n",
    "    data = [today, title, price, quantity]\n",
    "\n",
    "    with open('LazadaWebScrapping.csv', 'a+', newline='', encoding='UTF8') as f:\n",
    "        writer = csv.writer(f)\n",
    "        writer.writerow(data)\n",
    "        \n",
    "    if(float(price)<1500):\n",
    "        send_mail()"
   ]
  },
  {
   "cell_type": "code",
   "execution_count": null,
   "id": "e304a08d",
   "metadata": {},
   "outputs": [],
   "source": [
    "#runs check_price after a set of time and input data into csv\n",
    "\n",
    "while(True):\n",
    "    check_price()\n",
    "    time.sleep(86400) #a day"
   ]
  },
  {
   "cell_type": "code",
   "execution_count": null,
   "id": "0445ccca",
   "metadata": {},
   "outputs": [],
   "source": [
    "df = pd.read_csv('LazadaWebScrapping.csv')\n",
    "df"
   ]
  },
  {
   "cell_type": "code",
   "execution_count": null,
   "id": "05b8696e",
   "metadata": {},
   "outputs": [],
   "source": []
  }
 ],
 "metadata": {
  "kernelspec": {
   "display_name": "Python 3 (ipykernel)",
   "language": "python",
   "name": "python3"
  },
  "language_info": {
   "codemirror_mode": {
    "name": "ipython",
    "version": 3
   },
   "file_extension": ".py",
   "mimetype": "text/x-python",
   "name": "python",
   "nbconvert_exporter": "python",
   "pygments_lexer": "ipython3",
   "version": "3.8.13"
  }
 },
 "nbformat": 4,
 "nbformat_minor": 5
}
